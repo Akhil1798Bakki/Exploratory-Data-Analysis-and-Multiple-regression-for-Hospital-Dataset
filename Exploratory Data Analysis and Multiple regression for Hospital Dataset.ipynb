{
 "cells": [
  {
   "cell_type": "markdown",
   "metadata": {},
   "source": [
    "# Author: Bakki Akhil"
   ]
  },
  {
   "cell_type": "markdown",
   "metadata": {},
   "source": [
    "### The main aim of this project is to do Exploratory data analysis for details mentioned in Hospital dataset\n",
    "### Here in this project we will analysis using the plots between different variables and comparing among them\n",
    "### In this project we will be building Multiple linear regression to estimate the relationship between explanatory (independent) variables and response (dependent) variable. This helps in finding the score of how much prediction is nearer to the actual value"
   ]
  },
  {
   "cell_type": "code",
   "execution_count": 1,
   "metadata": {},
   "outputs": [],
   "source": [
    "# Here we will be importing all the required libraries \n",
    "import pandas as pd\n",
    "import numpy as np\n",
    "import matplotlib.pyplot as plt\n",
    "from matplotlib import style\n",
    "import seaborn as sns\n",
    "%matplotlib inline"
   ]
  },
  {
   "cell_type": "code",
   "execution_count": 2,
   "metadata": {},
   "outputs": [],
   "source": [
    "# here we are importing the dataset of Mission Hospital\n",
    "input_data = pd.read_csv(\"D:\\\\Akhil MBA\\\\MBA 3 Trimester\\\\Statistical Modeling using R\\\\Mission_Hospital.csv\")"
   ]
  },
  {
   "cell_type": "code",
   "execution_count": 3,
   "metadata": {},
   "outputs": [
    {
     "data": {
      "text/html": [
       "<div>\n",
       "<style scoped>\n",
       "    .dataframe tbody tr th:only-of-type {\n",
       "        vertical-align: middle;\n",
       "    }\n",
       "\n",
       "    .dataframe tbody tr th {\n",
       "        vertical-align: top;\n",
       "    }\n",
       "\n",
       "    .dataframe thead th {\n",
       "        text-align: right;\n",
       "    }\n",
       "</style>\n",
       "<table border=\"1\" class=\"dataframe\">\n",
       "  <thead>\n",
       "    <tr style=\"text-align: right;\">\n",
       "      <th></th>\n",
       "      <th>SL.</th>\n",
       "      <th>AGE</th>\n",
       "      <th>GENDER</th>\n",
       "      <th>MARITAL STATUS</th>\n",
       "      <th>KEY COMPLAINTS -CODE</th>\n",
       "      <th>BODY WEIGHT</th>\n",
       "      <th>BODY HEIGHT</th>\n",
       "      <th>HR PULSE</th>\n",
       "      <th>BP -HIGH</th>\n",
       "      <th>BP-LOW</th>\n",
       "      <th>...</th>\n",
       "      <th>TYPE OF ADMSN</th>\n",
       "      <th>TOTAL COST TO HOSPITAL</th>\n",
       "      <th>TOTAL AMOUNT BILLED TO THE PATIENT</th>\n",
       "      <th>CONCESSION</th>\n",
       "      <th>ACTUAL RECEIVABLE AMOUNT</th>\n",
       "      <th>TOTAL LENGTH OF STAY</th>\n",
       "      <th>LENGTH OF STAY - ICU</th>\n",
       "      <th>LENGTH OF STAY- WARD</th>\n",
       "      <th>IMPLANT USED (Y/N)</th>\n",
       "      <th>COST OF IMPLANT</th>\n",
       "    </tr>\n",
       "  </thead>\n",
       "  <tbody>\n",
       "    <tr>\n",
       "      <th>0</th>\n",
       "      <td>1</td>\n",
       "      <td>58.0</td>\n",
       "      <td>M</td>\n",
       "      <td>MARRIED</td>\n",
       "      <td>other- heart</td>\n",
       "      <td>49</td>\n",
       "      <td>160</td>\n",
       "      <td>118</td>\n",
       "      <td>100.0</td>\n",
       "      <td>80.0</td>\n",
       "      <td>...</td>\n",
       "      <td>EMERGENCY</td>\n",
       "      <td>660293.0</td>\n",
       "      <td>474901</td>\n",
       "      <td>0</td>\n",
       "      <td>474901</td>\n",
       "      <td>25</td>\n",
       "      <td>12</td>\n",
       "      <td>13</td>\n",
       "      <td>Y</td>\n",
       "      <td>38000</td>\n",
       "    </tr>\n",
       "    <tr>\n",
       "      <th>1</th>\n",
       "      <td>2</td>\n",
       "      <td>59.0</td>\n",
       "      <td>M</td>\n",
       "      <td>MARRIED</td>\n",
       "      <td>CAD-DVD</td>\n",
       "      <td>41</td>\n",
       "      <td>155</td>\n",
       "      <td>78</td>\n",
       "      <td>70.0</td>\n",
       "      <td>50.0</td>\n",
       "      <td>...</td>\n",
       "      <td>EMERGENCY</td>\n",
       "      <td>809130.0</td>\n",
       "      <td>944819</td>\n",
       "      <td>96422</td>\n",
       "      <td>848397</td>\n",
       "      <td>41</td>\n",
       "      <td>20</td>\n",
       "      <td>21</td>\n",
       "      <td>Y</td>\n",
       "      <td>39690</td>\n",
       "    </tr>\n",
       "    <tr>\n",
       "      <th>2</th>\n",
       "      <td>3</td>\n",
       "      <td>82.0</td>\n",
       "      <td>M</td>\n",
       "      <td>MARRIED</td>\n",
       "      <td>CAD-TVD</td>\n",
       "      <td>47</td>\n",
       "      <td>164</td>\n",
       "      <td>100</td>\n",
       "      <td>110.0</td>\n",
       "      <td>80.0</td>\n",
       "      <td>...</td>\n",
       "      <td>ELECTIVE</td>\n",
       "      <td>362231.0</td>\n",
       "      <td>390000</td>\n",
       "      <td>30000</td>\n",
       "      <td>360000</td>\n",
       "      <td>18</td>\n",
       "      <td>9</td>\n",
       "      <td>9</td>\n",
       "      <td>N</td>\n",
       "      <td>0</td>\n",
       "    </tr>\n",
       "    <tr>\n",
       "      <th>3</th>\n",
       "      <td>4</td>\n",
       "      <td>46.0</td>\n",
       "      <td>M</td>\n",
       "      <td>MARRIED</td>\n",
       "      <td>CAD-DVD</td>\n",
       "      <td>80</td>\n",
       "      <td>173</td>\n",
       "      <td>122</td>\n",
       "      <td>110.0</td>\n",
       "      <td>80.0</td>\n",
       "      <td>...</td>\n",
       "      <td>EMERGENCY</td>\n",
       "      <td>629990.0</td>\n",
       "      <td>324910</td>\n",
       "      <td>0</td>\n",
       "      <td>324910</td>\n",
       "      <td>14</td>\n",
       "      <td>13</td>\n",
       "      <td>1</td>\n",
       "      <td>Y</td>\n",
       "      <td>89450</td>\n",
       "    </tr>\n",
       "    <tr>\n",
       "      <th>4</th>\n",
       "      <td>5</td>\n",
       "      <td>60.0</td>\n",
       "      <td>M</td>\n",
       "      <td>MARRIED</td>\n",
       "      <td>CAD-DVD</td>\n",
       "      <td>58</td>\n",
       "      <td>175</td>\n",
       "      <td>72</td>\n",
       "      <td>180.0</td>\n",
       "      <td>100.0</td>\n",
       "      <td>...</td>\n",
       "      <td>EMERGENCY</td>\n",
       "      <td>444876.0</td>\n",
       "      <td>254673</td>\n",
       "      <td>10000</td>\n",
       "      <td>244673</td>\n",
       "      <td>24</td>\n",
       "      <td>12</td>\n",
       "      <td>12</td>\n",
       "      <td>N</td>\n",
       "      <td>0</td>\n",
       "    </tr>\n",
       "  </tbody>\n",
       "</table>\n",
       "<p>5 rows × 27 columns</p>\n",
       "</div>"
      ],
      "text/plain": [
       "   SL.   AGE GENDER MARITAL STATUS KEY COMPLAINTS -CODE  BODY WEIGHT  \\\n",
       "0    1  58.0      M        MARRIED         other- heart           49   \n",
       "1    2  59.0      M        MARRIED              CAD-DVD           41   \n",
       "2    3  82.0      M        MARRIED              CAD-TVD           47   \n",
       "3    4  46.0      M        MARRIED              CAD-DVD           80   \n",
       "4    5  60.0      M        MARRIED              CAD-DVD           58   \n",
       "\n",
       "   BODY HEIGHT  HR PULSE  BP -HIGH  BP-LOW  ...  TYPE OF ADMSN  \\\n",
       "0          160       118     100.0    80.0  ...      EMERGENCY   \n",
       "1          155        78      70.0    50.0  ...      EMERGENCY   \n",
       "2          164       100     110.0    80.0  ...       ELECTIVE   \n",
       "3          173       122     110.0    80.0  ...      EMERGENCY   \n",
       "4          175        72     180.0   100.0  ...      EMERGENCY   \n",
       "\n",
       "  TOTAL COST TO HOSPITAL   TOTAL AMOUNT BILLED TO THE PATIENT  CONCESSION  \\\n",
       "0                660293.0                              474901           0   \n",
       "1                809130.0                              944819       96422   \n",
       "2                362231.0                              390000       30000   \n",
       "3                629990.0                              324910           0   \n",
       "4                444876.0                              254673       10000   \n",
       "\n",
       "   ACTUAL RECEIVABLE AMOUNT TOTAL LENGTH OF STAY LENGTH OF STAY - ICU  \\\n",
       "0                    474901                   25                   12   \n",
       "1                    848397                   41                   20   \n",
       "2                    360000                   18                    9   \n",
       "3                    324910                   14                   13   \n",
       "4                    244673                   24                   12   \n",
       "\n",
       "  LENGTH OF STAY- WARD  IMPLANT USED (Y/N)  COST OF IMPLANT  \n",
       "0                   13                   Y            38000  \n",
       "1                   21                   Y            39690  \n",
       "2                    9                   N                0  \n",
       "3                    1                   Y            89450  \n",
       "4                   12                   N                0  \n",
       "\n",
       "[5 rows x 27 columns]"
      ]
     },
     "execution_count": 3,
     "metadata": {},
     "output_type": "execute_result"
    }
   ],
   "source": [
    "# the top 5 rows of the above dataset\n",
    "input_data.head()"
   ]
  },
  {
   "cell_type": "code",
   "execution_count": 4,
   "metadata": {},
   "outputs": [
    {
     "data": {
      "text/plain": [
       "(248, 27)"
      ]
     },
     "execution_count": 4,
     "metadata": {},
     "output_type": "execute_result"
    }
   ],
   "source": [
    "input_data.shape"
   ]
  },
  {
   "cell_type": "code",
   "execution_count": 5,
   "metadata": {},
   "outputs": [
    {
     "data": {
      "text/plain": [
       "SL.                                     0\n",
       "AGE                                     0\n",
       "GENDER                                  0\n",
       "MARITAL STATUS                          0\n",
       "KEY COMPLAINTS -CODE                   36\n",
       "BODY WEIGHT                             0\n",
       "BODY HEIGHT                             0\n",
       "HR PULSE                                0\n",
       "BP -HIGH                               23\n",
       "BP-LOW                                 23\n",
       "RR                                      0\n",
       "PAST MEDICAL HISTORY CODE             173\n",
       "HB                                      2\n",
       "UREA                                   13\n",
       "CREATININE                             33\n",
       "MODE OF ARRIVAL                         0\n",
       "STATE AT THE TIME OF ARRIVAL            0\n",
       "TYPE OF ADMSN                           0\n",
       "TOTAL COST TO HOSPITAL                  0\n",
       "TOTAL AMOUNT BILLED TO THE PATIENT      0\n",
       "CONCESSION                              0\n",
       "ACTUAL RECEIVABLE AMOUNT                0\n",
       "TOTAL LENGTH OF STAY                    0\n",
       "LENGTH OF STAY - ICU                    0\n",
       "LENGTH OF STAY- WARD                    0\n",
       "IMPLANT USED (Y/N)                      0\n",
       "COST OF IMPLANT                         0\n",
       "dtype: int64"
      ]
     },
     "execution_count": 5,
     "metadata": {},
     "output_type": "execute_result"
    }
   ],
   "source": [
    "# this specifies the NaN or null values present in the dataset\n",
    "input_data.isnull().sum()"
   ]
  },
  {
   "cell_type": "code",
   "execution_count": 6,
   "metadata": {},
   "outputs": [
    {
     "data": {
      "text/html": [
       "<div>\n",
       "<style scoped>\n",
       "    .dataframe tbody tr th:only-of-type {\n",
       "        vertical-align: middle;\n",
       "    }\n",
       "\n",
       "    .dataframe tbody tr th {\n",
       "        vertical-align: top;\n",
       "    }\n",
       "\n",
       "    .dataframe thead th {\n",
       "        text-align: right;\n",
       "    }\n",
       "</style>\n",
       "<table border=\"1\" class=\"dataframe\">\n",
       "  <thead>\n",
       "    <tr style=\"text-align: right;\">\n",
       "      <th></th>\n",
       "      <th>SL.</th>\n",
       "      <th>AGE</th>\n",
       "      <th>BODY WEIGHT</th>\n",
       "      <th>BODY HEIGHT</th>\n",
       "      <th>HR PULSE</th>\n",
       "      <th>BP -HIGH</th>\n",
       "      <th>BP-LOW</th>\n",
       "      <th>RR</th>\n",
       "      <th>HB</th>\n",
       "      <th>UREA</th>\n",
       "      <th>CREATININE</th>\n",
       "      <th>TOTAL COST TO HOSPITAL</th>\n",
       "      <th>TOTAL AMOUNT BILLED TO THE PATIENT</th>\n",
       "      <th>CONCESSION</th>\n",
       "      <th>ACTUAL RECEIVABLE AMOUNT</th>\n",
       "      <th>TOTAL LENGTH OF STAY</th>\n",
       "      <th>LENGTH OF STAY - ICU</th>\n",
       "      <th>LENGTH OF STAY- WARD</th>\n",
       "      <th>COST OF IMPLANT</th>\n",
       "    </tr>\n",
       "  </thead>\n",
       "  <tbody>\n",
       "    <tr>\n",
       "      <th>count</th>\n",
       "      <td>248.000000</td>\n",
       "      <td>248.000000</td>\n",
       "      <td>248.000000</td>\n",
       "      <td>248.000000</td>\n",
       "      <td>248.000000</td>\n",
       "      <td>225.000000</td>\n",
       "      <td>225.000000</td>\n",
       "      <td>248.000000</td>\n",
       "      <td>246.000000</td>\n",
       "      <td>235.000000</td>\n",
       "      <td>215.000000</td>\n",
       "      <td>248.000000</td>\n",
       "      <td>248.0000</td>\n",
       "      <td>248.000000</td>\n",
       "      <td>248.000000</td>\n",
       "      <td>248.000000</td>\n",
       "      <td>248.000000</td>\n",
       "      <td>248.000000</td>\n",
       "      <td>248.000000</td>\n",
       "    </tr>\n",
       "    <tr>\n",
       "      <th>mean</th>\n",
       "      <td>124.500000</td>\n",
       "      <td>28.879839</td>\n",
       "      <td>37.536290</td>\n",
       "      <td>130.221774</td>\n",
       "      <td>92.229839</td>\n",
       "      <td>115.022222</td>\n",
       "      <td>71.875556</td>\n",
       "      <td>23.540323</td>\n",
       "      <td>12.934959</td>\n",
       "      <td>26.581702</td>\n",
       "      <td>0.746977</td>\n",
       "      <td>198723.330282</td>\n",
       "      <td>182721.3750</td>\n",
       "      <td>17642.818548</td>\n",
       "      <td>167894.399194</td>\n",
       "      <td>11.612903</td>\n",
       "      <td>3.475806</td>\n",
       "      <td>8.153226</td>\n",
       "      <td>8544.201613</td>\n",
       "    </tr>\n",
       "    <tr>\n",
       "      <th>std</th>\n",
       "      <td>71.735626</td>\n",
       "      <td>25.899358</td>\n",
       "      <td>23.122248</td>\n",
       "      <td>39.170901</td>\n",
       "      <td>20.308740</td>\n",
       "      <td>22.536368</td>\n",
       "      <td>15.313176</td>\n",
       "      <td>3.840756</td>\n",
       "      <td>3.099019</td>\n",
       "      <td>15.998367</td>\n",
       "      <td>0.548641</td>\n",
       "      <td>122587.492984</td>\n",
       "      <td>102104.1345</td>\n",
       "      <td>19992.417896</td>\n",
       "      <td>109345.870984</td>\n",
       "      <td>5.392617</td>\n",
       "      <td>3.853520</td>\n",
       "      <td>3.755793</td>\n",
       "      <td>21521.877503</td>\n",
       "    </tr>\n",
       "    <tr>\n",
       "      <th>min</th>\n",
       "      <td>1.000000</td>\n",
       "      <td>0.030000</td>\n",
       "      <td>2.000000</td>\n",
       "      <td>19.000000</td>\n",
       "      <td>41.000000</td>\n",
       "      <td>70.000000</td>\n",
       "      <td>39.000000</td>\n",
       "      <td>12.000000</td>\n",
       "      <td>5.000000</td>\n",
       "      <td>2.000000</td>\n",
       "      <td>0.100000</td>\n",
       "      <td>46093.000000</td>\n",
       "      <td>43641.0000</td>\n",
       "      <td>0.000000</td>\n",
       "      <td>31000.000000</td>\n",
       "      <td>3.000000</td>\n",
       "      <td>0.000000</td>\n",
       "      <td>0.000000</td>\n",
       "      <td>0.000000</td>\n",
       "    </tr>\n",
       "    <tr>\n",
       "      <th>25%</th>\n",
       "      <td>62.750000</td>\n",
       "      <td>6.000000</td>\n",
       "      <td>15.000000</td>\n",
       "      <td>105.000000</td>\n",
       "      <td>78.000000</td>\n",
       "      <td>100.000000</td>\n",
       "      <td>60.000000</td>\n",
       "      <td>22.000000</td>\n",
       "      <td>11.000000</td>\n",
       "      <td>18.000000</td>\n",
       "      <td>0.300000</td>\n",
       "      <td>131652.750000</td>\n",
       "      <td>150000.0000</td>\n",
       "      <td>0.000000</td>\n",
       "      <td>112500.000000</td>\n",
       "      <td>8.000000</td>\n",
       "      <td>1.000000</td>\n",
       "      <td>6.000000</td>\n",
       "      <td>0.000000</td>\n",
       "    </tr>\n",
       "    <tr>\n",
       "      <th>50%</th>\n",
       "      <td>124.500000</td>\n",
       "      <td>15.500000</td>\n",
       "      <td>41.000000</td>\n",
       "      <td>147.500000</td>\n",
       "      <td>90.000000</td>\n",
       "      <td>110.000000</td>\n",
       "      <td>70.000000</td>\n",
       "      <td>24.000000</td>\n",
       "      <td>12.000000</td>\n",
       "      <td>22.000000</td>\n",
       "      <td>0.700000</td>\n",
       "      <td>162660.500000</td>\n",
       "      <td>150000.0000</td>\n",
       "      <td>10000.000000</td>\n",
       "      <td>122400.000000</td>\n",
       "      <td>10.000000</td>\n",
       "      <td>2.000000</td>\n",
       "      <td>7.000000</td>\n",
       "      <td>0.000000</td>\n",
       "    </tr>\n",
       "    <tr>\n",
       "      <th>75%</th>\n",
       "      <td>186.250000</td>\n",
       "      <td>55.000000</td>\n",
       "      <td>58.250000</td>\n",
       "      <td>160.000000</td>\n",
       "      <td>104.000000</td>\n",
       "      <td>130.000000</td>\n",
       "      <td>80.000000</td>\n",
       "      <td>24.000000</td>\n",
       "      <td>14.000000</td>\n",
       "      <td>30.000000</td>\n",
       "      <td>1.000000</td>\n",
       "      <td>220614.000000</td>\n",
       "      <td>202638.5000</td>\n",
       "      <td>37500.000000</td>\n",
       "      <td>197000.000000</td>\n",
       "      <td>13.000000</td>\n",
       "      <td>4.000000</td>\n",
       "      <td>10.000000</td>\n",
       "      <td>0.000000</td>\n",
       "    </tr>\n",
       "    <tr>\n",
       "      <th>max</th>\n",
       "      <td>248.000000</td>\n",
       "      <td>88.000000</td>\n",
       "      <td>85.000000</td>\n",
       "      <td>185.000000</td>\n",
       "      <td>155.000000</td>\n",
       "      <td>215.000000</td>\n",
       "      <td>140.000000</td>\n",
       "      <td>42.000000</td>\n",
       "      <td>26.000000</td>\n",
       "      <td>143.000000</td>\n",
       "      <td>5.200000</td>\n",
       "      <td>887350.000000</td>\n",
       "      <td>944819.0000</td>\n",
       "      <td>123132.000000</td>\n",
       "      <td>848397.000000</td>\n",
       "      <td>41.000000</td>\n",
       "      <td>30.000000</td>\n",
       "      <td>22.000000</td>\n",
       "      <td>196848.000000</td>\n",
       "    </tr>\n",
       "  </tbody>\n",
       "</table>\n",
       "</div>"
      ],
      "text/plain": [
       "              SL.         AGE  BODY WEIGHT  BODY HEIGHT    HR PULSE  \\\n",
       "count  248.000000  248.000000   248.000000   248.000000  248.000000   \n",
       "mean   124.500000   28.879839    37.536290   130.221774   92.229839   \n",
       "std     71.735626   25.899358    23.122248    39.170901   20.308740   \n",
       "min      1.000000    0.030000     2.000000    19.000000   41.000000   \n",
       "25%     62.750000    6.000000    15.000000   105.000000   78.000000   \n",
       "50%    124.500000   15.500000    41.000000   147.500000   90.000000   \n",
       "75%    186.250000   55.000000    58.250000   160.000000  104.000000   \n",
       "max    248.000000   88.000000    85.000000   185.000000  155.000000   \n",
       "\n",
       "         BP -HIGH      BP-LOW          RR          HB        UREA  CREATININE  \\\n",
       "count  225.000000  225.000000  248.000000  246.000000  235.000000  215.000000   \n",
       "mean   115.022222   71.875556   23.540323   12.934959   26.581702    0.746977   \n",
       "std     22.536368   15.313176    3.840756    3.099019   15.998367    0.548641   \n",
       "min     70.000000   39.000000   12.000000    5.000000    2.000000    0.100000   \n",
       "25%    100.000000   60.000000   22.000000   11.000000   18.000000    0.300000   \n",
       "50%    110.000000   70.000000   24.000000   12.000000   22.000000    0.700000   \n",
       "75%    130.000000   80.000000   24.000000   14.000000   30.000000    1.000000   \n",
       "max    215.000000  140.000000   42.000000   26.000000  143.000000    5.200000   \n",
       "\n",
       "       TOTAL COST TO HOSPITAL   TOTAL AMOUNT BILLED TO THE PATIENT  \\\n",
       "count               248.000000                            248.0000   \n",
       "mean             198723.330282                         182721.3750   \n",
       "std              122587.492984                         102104.1345   \n",
       "min               46093.000000                          43641.0000   \n",
       "25%              131652.750000                         150000.0000   \n",
       "50%              162660.500000                         150000.0000   \n",
       "75%              220614.000000                         202638.5000   \n",
       "max              887350.000000                         944819.0000   \n",
       "\n",
       "          CONCESSION  ACTUAL RECEIVABLE AMOUNT  TOTAL LENGTH OF STAY  \\\n",
       "count     248.000000                248.000000            248.000000   \n",
       "mean    17642.818548             167894.399194             11.612903   \n",
       "std     19992.417896             109345.870984              5.392617   \n",
       "min         0.000000              31000.000000              3.000000   \n",
       "25%         0.000000             112500.000000              8.000000   \n",
       "50%     10000.000000             122400.000000             10.000000   \n",
       "75%     37500.000000             197000.000000             13.000000   \n",
       "max    123132.000000             848397.000000             41.000000   \n",
       "\n",
       "       LENGTH OF STAY - ICU  LENGTH OF STAY- WARD  COST OF IMPLANT  \n",
       "count            248.000000            248.000000       248.000000  \n",
       "mean               3.475806              8.153226      8544.201613  \n",
       "std                3.853520              3.755793     21521.877503  \n",
       "min                0.000000              0.000000         0.000000  \n",
       "25%                1.000000              6.000000         0.000000  \n",
       "50%                2.000000              7.000000         0.000000  \n",
       "75%                4.000000             10.000000         0.000000  \n",
       "max               30.000000             22.000000    196848.000000  "
      ]
     },
     "execution_count": 6,
     "metadata": {},
     "output_type": "execute_result"
    }
   ],
   "source": [
    "# here we are describing the dataset for more insight\n",
    "input_data.describe()"
   ]
  },
  {
   "cell_type": "code",
   "execution_count": 7,
   "metadata": {},
   "outputs": [
    {
     "data": {
      "text/plain": [
       "<AxesSubplot:>"
      ]
     },
     "execution_count": 7,
     "metadata": {},
     "output_type": "execute_result"
    },
    {
     "data": {
      "image/png": "[encoded data removed]",
      "text/plain": [
       "<Figure size 432x288 with 1 Axes>"
      ]
     },
     "metadata": {
      "needs_background": "light"
     },
     "output_type": "display_data"
    }
   ],
   "source": [
    "# PLoting sns to find out the missing observations and coloured elements specifies the missing observations\n",
    "sns.heatmap(input_data.isnull(),yticklabels=False, cbar = False, cmap= 'viridis')"
   ]
  },
  {
   "cell_type": "code",
   "execution_count": 8,
   "metadata": {},
   "outputs": [],
   "source": [
    "# replacing the NaN values with none for categorical variables and means values for scalar variables and storing the resultant in new variable\n",
    "new_data = input_data.fillna({\n",
    "    \"KEY COMPLAINTS -CODE\" : \"None\",\n",
    "    \"BP -HIGH\" : 115.022222,\n",
    "    \"BP-LOW\" : 71.875556,\n",
    "    \"PAST MEDICAL HISTORY CODE\" : \"None\",\n",
    "    \"HB\" : 12.934959,\n",
    "    \"UREA\" : 26.581702,\n",
    "    \"CREATININE\" : 0.746977\n",
    "    \n",
    "})"
   ]
  },
  {
   "cell_type": "code",
   "execution_count": 9,
   "metadata": {},
   "outputs": [
    {
     "data": {
      "text/html": [
       "<div>\n",
       "<style scoped>\n",
       "    .dataframe tbody tr th:only-of-type {\n",
       "        vertical-align: middle;\n",
       "    }\n",
       "\n",
       "    .dataframe tbody tr th {\n",
       "        vertical-align: top;\n",
       "    }\n",
       "\n",
       "    .dataframe thead th {\n",
       "        text-align: right;\n",
       "    }\n",
       "</style>\n",
       "<table border=\"1\" class=\"dataframe\">\n",
       "  <thead>\n",
       "    <tr style=\"text-align: right;\">\n",
       "      <th></th>\n",
       "      <th>SL.</th>\n",
       "      <th>AGE</th>\n",
       "      <th>GENDER</th>\n",
       "      <th>MARITAL STATUS</th>\n",
       "      <th>KEY COMPLAINTS -CODE</th>\n",
       "      <th>BODY WEIGHT</th>\n",
       "      <th>BODY HEIGHT</th>\n",
       "      <th>HR PULSE</th>\n",
       "      <th>BP -HIGH</th>\n",
       "      <th>BP-LOW</th>\n",
       "      <th>...</th>\n",
       "      <th>TYPE OF ADMSN</th>\n",
       "      <th>TOTAL COST TO HOSPITAL</th>\n",
       "      <th>TOTAL AMOUNT BILLED TO THE PATIENT</th>\n",
       "      <th>CONCESSION</th>\n",
       "      <th>ACTUAL RECEIVABLE AMOUNT</th>\n",
       "      <th>TOTAL LENGTH OF STAY</th>\n",
       "      <th>LENGTH OF STAY - ICU</th>\n",
       "      <th>LENGTH OF STAY- WARD</th>\n",
       "      <th>IMPLANT USED (Y/N)</th>\n",
       "      <th>COST OF IMPLANT</th>\n",
       "    </tr>\n",
       "  </thead>\n",
       "  <tbody>\n",
       "    <tr>\n",
       "      <th>0</th>\n",
       "      <td>1</td>\n",
       "      <td>58.0</td>\n",
       "      <td>M</td>\n",
       "      <td>MARRIED</td>\n",
       "      <td>other- heart</td>\n",
       "      <td>49</td>\n",
       "      <td>160</td>\n",
       "      <td>118</td>\n",
       "      <td>100.0</td>\n",
       "      <td>80.0</td>\n",
       "      <td>...</td>\n",
       "      <td>EMERGENCY</td>\n",
       "      <td>660293.0</td>\n",
       "      <td>474901</td>\n",
       "      <td>0</td>\n",
       "      <td>474901</td>\n",
       "      <td>25</td>\n",
       "      <td>12</td>\n",
       "      <td>13</td>\n",
       "      <td>Y</td>\n",
       "      <td>38000</td>\n",
       "    </tr>\n",
       "    <tr>\n",
       "      <th>1</th>\n",
       "      <td>2</td>\n",
       "      <td>59.0</td>\n",
       "      <td>M</td>\n",
       "      <td>MARRIED</td>\n",
       "      <td>CAD-DVD</td>\n",
       "      <td>41</td>\n",
       "      <td>155</td>\n",
       "      <td>78</td>\n",
       "      <td>70.0</td>\n",
       "      <td>50.0</td>\n",
       "      <td>...</td>\n",
       "      <td>EMERGENCY</td>\n",
       "      <td>809130.0</td>\n",
       "      <td>944819</td>\n",
       "      <td>96422</td>\n",
       "      <td>848397</td>\n",
       "      <td>41</td>\n",
       "      <td>20</td>\n",
       "      <td>21</td>\n",
       "      <td>Y</td>\n",
       "      <td>39690</td>\n",
       "    </tr>\n",
       "    <tr>\n",
       "      <th>2</th>\n",
       "      <td>3</td>\n",
       "      <td>82.0</td>\n",
       "      <td>M</td>\n",
       "      <td>MARRIED</td>\n",
       "      <td>CAD-TVD</td>\n",
       "      <td>47</td>\n",
       "      <td>164</td>\n",
       "      <td>100</td>\n",
       "      <td>110.0</td>\n",
       "      <td>80.0</td>\n",
       "      <td>...</td>\n",
       "      <td>ELECTIVE</td>\n",
       "      <td>362231.0</td>\n",
       "      <td>390000</td>\n",
       "      <td>30000</td>\n",
       "      <td>360000</td>\n",
       "      <td>18</td>\n",
       "      <td>9</td>\n",
       "      <td>9</td>\n",
       "      <td>N</td>\n",
       "      <td>0</td>\n",
       "    </tr>\n",
       "    <tr>\n",
       "      <th>3</th>\n",
       "      <td>4</td>\n",
       "      <td>46.0</td>\n",
       "      <td>M</td>\n",
       "      <td>MARRIED</td>\n",
       "      <td>CAD-DVD</td>\n",
       "      <td>80</td>\n",
       "      <td>173</td>\n",
       "      <td>122</td>\n",
       "      <td>110.0</td>\n",
       "      <td>80.0</td>\n",
       "      <td>...</td>\n",
       "      <td>EMERGENCY</td>\n",
       "      <td>629990.0</td>\n",
       "      <td>324910</td>\n",
       "      <td>0</td>\n",
       "      <td>324910</td>\n",
       "      <td>14</td>\n",
       "      <td>13</td>\n",
       "      <td>1</td>\n",
       "      <td>Y</td>\n",
       "      <td>89450</td>\n",
       "    </tr>\n",
       "    <tr>\n",
       "      <th>4</th>\n",
       "      <td>5</td>\n",
       "      <td>60.0</td>\n",
       "      <td>M</td>\n",
       "      <td>MARRIED</td>\n",
       "      <td>CAD-DVD</td>\n",
       "      <td>58</td>\n",
       "      <td>175</td>\n",
       "      <td>72</td>\n",
       "      <td>180.0</td>\n",
       "      <td>100.0</td>\n",
       "      <td>...</td>\n",
       "      <td>EMERGENCY</td>\n",
       "      <td>444876.0</td>\n",
       "      <td>254673</td>\n",
       "      <td>10000</td>\n",
       "      <td>244673</td>\n",
       "      <td>24</td>\n",
       "      <td>12</td>\n",
       "      <td>12</td>\n",
       "      <td>N</td>\n",
       "      <td>0</td>\n",
       "    </tr>\n",
       "  </tbody>\n",
       "</table>\n",
       "<p>5 rows × 27 columns</p>\n",
       "</div>"
      ],
      "text/plain": [
       "   SL.   AGE GENDER MARITAL STATUS KEY COMPLAINTS -CODE  BODY WEIGHT  \\\n",
       "0    1  58.0      M        MARRIED         other- heart           49   \n",
       "1    2  59.0      M        MARRIED              CAD-DVD           41   \n",
       "2    3  82.0      M        MARRIED              CAD-TVD           47   \n",
       "3    4  46.0      M        MARRIED              CAD-DVD           80   \n",
       "4    5  60.0      M        MARRIED              CAD-DVD           58   \n",
       "\n",
       "   BODY HEIGHT  HR PULSE  BP -HIGH  BP-LOW  ...  TYPE OF ADMSN  \\\n",
       "0          160       118     100.0    80.0  ...      EMERGENCY   \n",
       "1          155        78      70.0    50.0  ...      EMERGENCY   \n",
       "2          164       100     110.0    80.0  ...       ELECTIVE   \n",
       "3          173       122     110.0    80.0  ...      EMERGENCY   \n",
       "4          175        72     180.0   100.0  ...      EMERGENCY   \n",
       "\n",
       "  TOTAL COST TO HOSPITAL   TOTAL AMOUNT BILLED TO THE PATIENT  CONCESSION  \\\n",
       "0                660293.0                              474901           0   \n",
       "1                809130.0                              944819       96422   \n",
       "2                362231.0                              390000       30000   \n",
       "3                629990.0                              324910           0   \n",
       "4                444876.0                              254673       10000   \n",
       "\n",
       "   ACTUAL RECEIVABLE AMOUNT TOTAL LENGTH OF STAY LENGTH OF STAY - ICU  \\\n",
       "0                    474901                   25                   12   \n",
       "1                    848397                   41                   20   \n",
       "2                    360000                   18                    9   \n",
       "3                    324910                   14                   13   \n",
       "4                    244673                   24                   12   \n",
       "\n",
       "  LENGTH OF STAY- WARD  IMPLANT USED (Y/N)  COST OF IMPLANT  \n",
       "0                   13                   Y            38000  \n",
       "1                   21                   Y            39690  \n",
       "2                    9                   N                0  \n",
       "3                    1                   Y            89450  \n",
       "4                   12                   N                0  \n",
       "\n",
       "[5 rows x 27 columns]"
      ]
     },
     "execution_count": 9,
     "metadata": {},
     "output_type": "execute_result"
    }
   ],
   "source": [
    "# The top 5 rows of the new dataset\n",
    "new_data.head()"
   ]
  },
  {
   "cell_type": "code",
   "execution_count": 10,
   "metadata": {},
   "outputs": [
    {
     "data": {
      "text/plain": [
       "SL.                                   0\n",
       "AGE                                   0\n",
       "GENDER                                0\n",
       "MARITAL STATUS                        0\n",
       "KEY COMPLAINTS -CODE                  0\n",
       "BODY WEIGHT                           0\n",
       "BODY HEIGHT                           0\n",
       "HR PULSE                              0\n",
       "BP -HIGH                              0\n",
       "BP-LOW                                0\n",
       "RR                                    0\n",
       "PAST MEDICAL HISTORY CODE             0\n",
       "HB                                    0\n",
       "UREA                                  0\n",
       "CREATININE                            0\n",
       "MODE OF ARRIVAL                       0\n",
       "STATE AT THE TIME OF ARRIVAL          0\n",
       "TYPE OF ADMSN                         0\n",
       "TOTAL COST TO HOSPITAL                0\n",
       "TOTAL AMOUNT BILLED TO THE PATIENT    0\n",
       "CONCESSION                            0\n",
       "ACTUAL RECEIVABLE AMOUNT              0\n",
       "TOTAL LENGTH OF STAY                  0\n",
       "LENGTH OF STAY - ICU                  0\n",
       "LENGTH OF STAY- WARD                  0\n",
       "IMPLANT USED (Y/N)                    0\n",
       "COST OF IMPLANT                       0\n",
       "dtype: int64"
      ]
     },
     "execution_count": 10,
     "metadata": {},
     "output_type": "execute_result"
    }
   ],
   "source": [
    "# Here we can observe that all the NaN or null values are removed/replaced in the new dataset\n",
    "new_data.isnull().sum()"
   ]
  },
  {
   "cell_type": "code",
   "execution_count": 11,
   "metadata": {},
   "outputs": [
    {
     "data": {
      "text/plain": [
       "<AxesSubplot:>"
      ]
     },
     "execution_count": 11,
     "metadata": {},
     "output_type": "execute_result"
    },
    {
     "data": {
      "image/png": "[encoded data removed]",
      "text/plain": [
       "<Figure size 432x288 with 1 Axes>"
      ]
     },
     "metadata": {
      "needs_background": "light"
     },
     "output_type": "display_data"
    }
   ],
   "source": [
    "# PLoting sns to find out the missing observations and the graph indicates that there are no null values \n",
    "sns.heatmap(new_data.isnull(),yticklabels=False, cbar = False, cmap= 'viridis')"
   ]
  },
  {
   "cell_type": "code",
   "execution_count": 12,
   "metadata": {},
   "outputs": [
    {
     "data": {
      "text/plain": [
       "<AxesSubplot:xlabel='GENDER', ylabel='count'>"
      ]
     },
     "execution_count": 12,
     "metadata": {},
     "output_type": "execute_result"
    },
    {
     "data": {
      "image/png": "[encoded data removed]",
      "text/plain": [
       "<Figure size 864x504 with 1 Axes>"
      ]
     },
     "metadata": {
      "needs_background": "light"
     },
     "output_type": "display_data"
    }
   ],
   "source": [
    "# ploting the graph for gender\n",
    "plt.figure(figsize = (12,7))\n",
    "sns.set_style('whitegrid')\n",
    "sns.countplot(data = new_data, x = \"GENDER\")"
   ]
  },
  {
   "cell_type": "code",
   "execution_count": 13,
   "metadata": {},
   "outputs": [
    {
     "data": {
      "text/plain": [
       "<seaborn.axisgrid.FacetGrid at 0x1def4ffe1c0>"
      ]
     },
     "execution_count": 13,
     "metadata": {},
     "output_type": "execute_result"
    },
    {
     "data": {
      "text/plain": [
       "<Figure size 864x504 with 0 Axes>"
      ]
     },
     "metadata": {},
     "output_type": "display_data"
    },
    {
     "data": {
      "image/png": "[encoded data removed]",
      "text/plain": [
       "<Figure size 410.5x360 with 1 Axes>"
      ]
     },
     "metadata": {},
     "output_type": "display_data"
    }
   ],
   "source": [
    "# ploting the graph comparing body weight and body height with gender\n",
    "plt.figure(figsize = (12,7))\n",
    "sns.set_style('whitegrid')\n",
    "sns.relplot(data = new_data, x = \"BODY WEIGHT\", y = \"BODY HEIGHT\", hue = \"GENDER\")"
   ]
  },
  {
   "cell_type": "code",
   "execution_count": 14,
   "metadata": {},
   "outputs": [
    {
     "data": {
      "text/plain": [
       "<seaborn.axisgrid.FacetGrid at 0x1def3a83ac0>"
      ]
     },
     "execution_count": 14,
     "metadata": {},
     "output_type": "execute_result"
    },
    {
     "data": {
      "text/plain": [
       "<Figure size 864x504 with 0 Axes>"
      ]
     },
     "metadata": {},
     "output_type": "display_data"
    },
    {
     "data": {
      "image/png": "[encoded data removed]",
      "text/plain": [
       "<Figure size 360x360 with 1 Axes>"
      ]
     },
     "metadata": {},
     "output_type": "display_data"
    }
   ],
   "source": [
    "# ploting the graph comparing marital status and age\n",
    "plt.figure(figsize = (12,7))\n",
    "sns.set_style('whitegrid')\n",
    "sns.relplot(data = new_data, x = \"MARITAL STATUS\", y = \"AGE\")"
   ]
  },
  {
   "cell_type": "code",
   "execution_count": 15,
   "metadata": {},
   "outputs": [
    {
     "data": {
      "text/plain": [
       "<seaborn.axisgrid.FacetGrid at 0x1def4fe5bb0>"
      ]
     },
     "execution_count": 15,
     "metadata": {},
     "output_type": "execute_result"
    },
    {
     "data": {
      "text/plain": [
       "<Figure size 864x504 with 0 Axes>"
      ]
     },
     "metadata": {},
     "output_type": "display_data"
    },
    {
     "data": {
      "image/png": "[encoded data removed]",
      "text/plain": [
       "<Figure size 407.25x360 with 1 Axes>"
      ]
     },
     "metadata": {},
     "output_type": "display_data"
    }
   ],
   "source": [
    "# ploting the graph comparing BP-High and BP-Low with Age\n",
    "plt.figure(figsize = (12,7))\n",
    "sns.set_style('whitegrid')\n",
    "sns.relplot(data = new_data, x = \"BP -HIGH\", y = \"BP-LOW\", hue = \"AGE\")"
   ]
  },
  {
   "cell_type": "code",
   "execution_count": 16,
   "metadata": {},
   "outputs": [
    {
     "data": {
      "text/plain": [
       "<seaborn.axisgrid.JointGrid at 0x1def519ccd0>"
      ]
     },
     "execution_count": 16,
     "metadata": {},
     "output_type": "execute_result"
    },
    {
     "data": {
      "text/plain": [
       "<Figure size 864x504 with 0 Axes>"
      ]
     },
     "metadata": {},
     "output_type": "display_data"
    },
    {
     "data": {
      "image/png": "[encoded data removed]",
      "text/plain": [
       "<Figure size 432x432 with 3 Axes>"
      ]
     },
     "metadata": {},
     "output_type": "display_data"
    }
   ],
   "source": [
    "# ploting the graph comparing HB and Urea with gender\n",
    "plt.figure(figsize = (12,7))\n",
    "sns.set_style('whitegrid')\n",
    "sns.jointplot(data = new_data, x = \"HB\", y = \"UREA\",hue = \"GENDER\")"
   ]
  },
  {
   "cell_type": "code",
   "execution_count": 17,
   "metadata": {},
   "outputs": [
    {
     "data": {
      "text/plain": [
       "<AxesSubplot:xlabel='CREATININE', ylabel='RR'>"
      ]
     },
     "execution_count": 17,
     "metadata": {},
     "output_type": "execute_result"
    },
    {
     "data": {
      "image/png": "[encoded data removed]",
      "text/plain": [
       "<Figure size 864x504 with 1 Axes>"
      ]
     },
     "metadata": {},
     "output_type": "display_data"
    }
   ],
   "source": [
    "# ploting the graph comparing Creatinine and RR with gender\n",
    "plt.figure(figsize = (12,7))\n",
    "sns.set_style('whitegrid')\n",
    "sns.scatterplot(data = new_data, x = \"CREATININE\", y = \"RR\", hue = \"GENDER\")"
   ]
  },
  {
   "cell_type": "code",
   "execution_count": 18,
   "metadata": {},
   "outputs": [
    {
     "data": {
      "text/plain": [
       "<AxesSubplot:xlabel='TOTAL AMOUNT BILLED TO THE PATIENT', ylabel='CONCESSION'>"
      ]
     },
     "execution_count": 18,
     "metadata": {},
     "output_type": "execute_result"
    },
    {
     "data": {
      "image/png": "[encoded data removed]",
      "text/plain": [
       "<Figure size 864x504 with 1 Axes>"
      ]
     },
     "metadata": {},
     "output_type": "display_data"
    }
   ],
   "source": [
    "# ploting the graph comparing Total amount billed to the patient and concession with gender\n",
    "plt.figure(figsize = (12,7))\n",
    "sns.set_style('whitegrid')\n",
    "sns.scatterplot(data = new_data, x = \"TOTAL AMOUNT BILLED TO THE PATIENT\", y = \"CONCESSION\", hue = \"GENDER\")"
   ]
  },
  {
   "cell_type": "code",
   "execution_count": 19,
   "metadata": {},
   "outputs": [
    {
     "data": {
      "text/plain": [
       "<AxesSubplot:xlabel='LENGTH OF STAY - ICU', ylabel='LENGTH OF STAY- WARD'>"
      ]
     },
     "execution_count": 19,
     "metadata": {},
     "output_type": "execute_result"
    },
    {
     "data": {
      "image/png": "[encoded data removed]",
      "text/plain": [
       "<Figure size 864x504 with 1 Axes>"
      ]
     },
     "metadata": {},
     "output_type": "display_data"
    }
   ],
   "source": [
    "# ploting the graph comparing lenght of stay(ICU) and leght of stay(Ward) with age\n",
    "plt.figure(figsize = (12,7))\n",
    "sns.set_style('whitegrid')\n",
    "sns.scatterplot(data = new_data, x = \"LENGTH OF STAY - ICU\", y = \"LENGTH OF STAY- WARD\", hue = \"AGE\")"
   ]
  },
  {
   "cell_type": "code",
   "execution_count": 20,
   "metadata": {},
   "outputs": [
    {
     "data": {
      "text/plain": [
       "<AxesSubplot:xlabel='TOTAL AMOUNT BILLED TO THE PATIENT', ylabel='ACTUAL RECEIVABLE AMOUNT'>"
      ]
     },
     "execution_count": 20,
     "metadata": {},
     "output_type": "execute_result"
    },
    {
     "data": {
      "image/png": "[encoded data removed]",
      "text/plain": [
       "<Figure size 864x504 with 1 Axes>"
      ]
     },
     "metadata": {},
     "output_type": "display_data"
    }
   ],
   "source": [
    "# ploting the graph comparing total amount billed and actual receivable amount to the hospital with gender\n",
    "plt.figure(figsize = (12,7))\n",
    "sns.set_style('whitegrid')\n",
    "sns.scatterplot(data = new_data, x = \"TOTAL AMOUNT BILLED TO THE PATIENT\", y = \"ACTUAL RECEIVABLE AMOUNT\", hue = \"GENDER\")"
   ]
  },
  {
   "cell_type": "markdown",
   "metadata": {},
   "source": [
    "# Multiple linear regression\n",
    "### Here below we will be doing Multiple linear regression for the same data comparing between Independent variables(AGE, HR.PULSE, BP..HIGH, HB, UREA, CREATININE, TOTAL.LENGTH.OF.STAY) with dependent variable(TOTAL.COST.TO.HOSPITAL)"
   ]
  },
  {
   "cell_type": "code",
   "execution_count": 21,
   "metadata": {},
   "outputs": [
    {
     "data": {
      "text/html": [
       "<div>\n",
       "<style scoped>\n",
       "    .dataframe tbody tr th:only-of-type {\n",
       "        vertical-align: middle;\n",
       "    }\n",
       "\n",
       "    .dataframe tbody tr th {\n",
       "        vertical-align: top;\n",
       "    }\n",
       "\n",
       "    .dataframe thead th {\n",
       "        text-align: right;\n",
       "    }\n",
       "</style>\n",
       "<table border=\"1\" class=\"dataframe\">\n",
       "  <thead>\n",
       "    <tr style=\"text-align: right;\">\n",
       "      <th></th>\n",
       "      <th>AGE</th>\n",
       "      <th>HR PULSE</th>\n",
       "      <th>BP -HIGH</th>\n",
       "      <th>HB</th>\n",
       "      <th>UREA</th>\n",
       "      <th>CREATININE</th>\n",
       "      <th>TOTAL COST TO HOSPITAL</th>\n",
       "      <th>TOTAL LENGTH OF STAY</th>\n",
       "    </tr>\n",
       "  </thead>\n",
       "  <tbody>\n",
       "    <tr>\n",
       "      <th>0</th>\n",
       "      <td>58.0</td>\n",
       "      <td>118</td>\n",
       "      <td>100.0</td>\n",
       "      <td>11.0</td>\n",
       "      <td>33.0</td>\n",
       "      <td>0.8</td>\n",
       "      <td>660293.0</td>\n",
       "      <td>25</td>\n",
       "    </tr>\n",
       "    <tr>\n",
       "      <th>1</th>\n",
       "      <td>59.0</td>\n",
       "      <td>78</td>\n",
       "      <td>70.0</td>\n",
       "      <td>11.0</td>\n",
       "      <td>95.0</td>\n",
       "      <td>1.7</td>\n",
       "      <td>809130.0</td>\n",
       "      <td>41</td>\n",
       "    </tr>\n",
       "    <tr>\n",
       "      <th>2</th>\n",
       "      <td>82.0</td>\n",
       "      <td>100</td>\n",
       "      <td>110.0</td>\n",
       "      <td>12.0</td>\n",
       "      <td>15.0</td>\n",
       "      <td>0.8</td>\n",
       "      <td>362231.0</td>\n",
       "      <td>18</td>\n",
       "    </tr>\n",
       "    <tr>\n",
       "      <th>3</th>\n",
       "      <td>46.0</td>\n",
       "      <td>122</td>\n",
       "      <td>110.0</td>\n",
       "      <td>12.0</td>\n",
       "      <td>74.0</td>\n",
       "      <td>1.5</td>\n",
       "      <td>629990.0</td>\n",
       "      <td>14</td>\n",
       "    </tr>\n",
       "    <tr>\n",
       "      <th>4</th>\n",
       "      <td>60.0</td>\n",
       "      <td>72</td>\n",
       "      <td>180.0</td>\n",
       "      <td>10.0</td>\n",
       "      <td>48.0</td>\n",
       "      <td>1.9</td>\n",
       "      <td>444876.0</td>\n",
       "      <td>24</td>\n",
       "    </tr>\n",
       "  </tbody>\n",
       "</table>\n",
       "</div>"
      ],
      "text/plain": [
       "    AGE  HR PULSE  BP -HIGH    HB  UREA  CREATININE  TOTAL COST TO HOSPITAL   \\\n",
       "0  58.0       118     100.0  11.0  33.0         0.8                 660293.0   \n",
       "1  59.0        78      70.0  11.0  95.0         1.7                 809130.0   \n",
       "2  82.0       100     110.0  12.0  15.0         0.8                 362231.0   \n",
       "3  46.0       122     110.0  12.0  74.0         1.5                 629990.0   \n",
       "4  60.0        72     180.0  10.0  48.0         1.9                 444876.0   \n",
       "\n",
       "   TOTAL LENGTH OF STAY  \n",
       "0                    25  \n",
       "1                    41  \n",
       "2                    18  \n",
       "3                    14  \n",
       "4                    24  "
      ]
     },
     "execution_count": 21,
     "metadata": {},
     "output_type": "execute_result"
    }
   ],
   "source": [
    "# importing the dataset, usecols is used to select specific columns from the dataset\n",
    "reg_data = pd.read_csv(\"D:\\\\Akhil MBA\\\\MBA 3 Trimester\\\\Statistical Modeling using R\\\\Mission_Hospital.csv\",\n",
    "                       usecols= [1,7,8,12,13,14,18,22])\n",
    "reg_data.head()"
   ]
  },
  {
   "cell_type": "code",
   "execution_count": 22,
   "metadata": {},
   "outputs": [
    {
     "data": {
      "text/plain": [
       "AGE                         0\n",
       "HR PULSE                    0\n",
       "BP -HIGH                   23\n",
       "HB                          2\n",
       "UREA                       13\n",
       "CREATININE                 33\n",
       "TOTAL COST TO HOSPITAL      0\n",
       "TOTAL LENGTH OF STAY        0\n",
       "dtype: int64"
      ]
     },
     "execution_count": 22,
     "metadata": {},
     "output_type": "execute_result"
    }
   ],
   "source": [
    "# checking for null values\n",
    "reg_data.isnull().sum()"
   ]
  },
  {
   "cell_type": "code",
   "execution_count": 23,
   "metadata": {},
   "outputs": [],
   "source": [
    "# updating by removing the null values\n",
    "reg_data = reg_data.fillna({\n",
    "    \"BP -HIGH\" : 115.022222,\n",
    "    \"HB\" : 12.934959,\n",
    "    \"UREA\" : 26.581702,\n",
    "    \"CREATININE\" : 0.746977\n",
    "    \n",
    "})"
   ]
  },
  {
   "cell_type": "code",
   "execution_count": 24,
   "metadata": {},
   "outputs": [
    {
     "data": {
      "text/plain": [
       "AGE                        0\n",
       "HR PULSE                   0\n",
       "BP -HIGH                   0\n",
       "HB                         0\n",
       "UREA                       0\n",
       "CREATININE                 0\n",
       "TOTAL COST TO HOSPITAL     0\n",
       "TOTAL LENGTH OF STAY       0\n",
       "dtype: int64"
      ]
     },
     "execution_count": 24,
     "metadata": {},
     "output_type": "execute_result"
    }
   ],
   "source": [
    "# checking for null values\n",
    "reg_data.isnull().sum()"
   ]
  },
  {
   "cell_type": "code",
   "execution_count": 25,
   "metadata": {},
   "outputs": [
    {
     "data": {
      "text/html": [
       "<div>\n",
       "<style scoped>\n",
       "    .dataframe tbody tr th:only-of-type {\n",
       "        vertical-align: middle;\n",
       "    }\n",
       "\n",
       "    .dataframe tbody tr th {\n",
       "        vertical-align: top;\n",
       "    }\n",
       "\n",
       "    .dataframe thead th {\n",
       "        text-align: right;\n",
       "    }\n",
       "</style>\n",
       "<table border=\"1\" class=\"dataframe\">\n",
       "  <thead>\n",
       "    <tr style=\"text-align: right;\">\n",
       "      <th></th>\n",
       "      <th>AGE</th>\n",
       "      <th>HR PULSE</th>\n",
       "      <th>BP -HIGH</th>\n",
       "      <th>HB</th>\n",
       "      <th>UREA</th>\n",
       "      <th>CREATININE</th>\n",
       "      <th>TOTAL COST TO HOSPITAL</th>\n",
       "      <th>TOTAL LENGTH OF STAY</th>\n",
       "    </tr>\n",
       "  </thead>\n",
       "  <tbody>\n",
       "    <tr>\n",
       "      <th>0</th>\n",
       "      <td>58.0</td>\n",
       "      <td>118</td>\n",
       "      <td>100.0</td>\n",
       "      <td>11.0</td>\n",
       "      <td>33.0</td>\n",
       "      <td>0.8</td>\n",
       "      <td>660293.0</td>\n",
       "      <td>25</td>\n",
       "    </tr>\n",
       "    <tr>\n",
       "      <th>1</th>\n",
       "      <td>59.0</td>\n",
       "      <td>78</td>\n",
       "      <td>70.0</td>\n",
       "      <td>11.0</td>\n",
       "      <td>95.0</td>\n",
       "      <td>1.7</td>\n",
       "      <td>809130.0</td>\n",
       "      <td>41</td>\n",
       "    </tr>\n",
       "    <tr>\n",
       "      <th>2</th>\n",
       "      <td>82.0</td>\n",
       "      <td>100</td>\n",
       "      <td>110.0</td>\n",
       "      <td>12.0</td>\n",
       "      <td>15.0</td>\n",
       "      <td>0.8</td>\n",
       "      <td>362231.0</td>\n",
       "      <td>18</td>\n",
       "    </tr>\n",
       "    <tr>\n",
       "      <th>3</th>\n",
       "      <td>46.0</td>\n",
       "      <td>122</td>\n",
       "      <td>110.0</td>\n",
       "      <td>12.0</td>\n",
       "      <td>74.0</td>\n",
       "      <td>1.5</td>\n",
       "      <td>629990.0</td>\n",
       "      <td>14</td>\n",
       "    </tr>\n",
       "    <tr>\n",
       "      <th>4</th>\n",
       "      <td>60.0</td>\n",
       "      <td>72</td>\n",
       "      <td>180.0</td>\n",
       "      <td>10.0</td>\n",
       "      <td>48.0</td>\n",
       "      <td>1.9</td>\n",
       "      <td>444876.0</td>\n",
       "      <td>24</td>\n",
       "    </tr>\n",
       "  </tbody>\n",
       "</table>\n",
       "</div>"
      ],
      "text/plain": [
       "    AGE  HR PULSE  BP -HIGH    HB  UREA  CREATININE  TOTAL COST TO HOSPITAL   \\\n",
       "0  58.0       118     100.0  11.0  33.0         0.8                 660293.0   \n",
       "1  59.0        78      70.0  11.0  95.0         1.7                 809130.0   \n",
       "2  82.0       100     110.0  12.0  15.0         0.8                 362231.0   \n",
       "3  46.0       122     110.0  12.0  74.0         1.5                 629990.0   \n",
       "4  60.0        72     180.0  10.0  48.0         1.9                 444876.0   \n",
       "\n",
       "   TOTAL LENGTH OF STAY  \n",
       "0                    25  \n",
       "1                    41  \n",
       "2                    18  \n",
       "3                    14  \n",
       "4                    24  "
      ]
     },
     "execution_count": 25,
     "metadata": {},
     "output_type": "execute_result"
    }
   ],
   "source": [
    "# checking for the data\n",
    "reg_data.head()"
   ]
  },
  {
   "cell_type": "code",
   "execution_count": 26,
   "metadata": {},
   "outputs": [
    {
     "data": {
      "text/plain": [
       "['AGE',\n",
       " 'HR PULSE',\n",
       " 'BP -HIGH',\n",
       " 'HB',\n",
       " 'UREA',\n",
       " 'CREATININE',\n",
       " 'TOTAL COST TO HOSPITAL ',\n",
       " 'TOTAL LENGTH OF STAY']"
      ]
     },
     "execution_count": 26,
     "metadata": {},
     "output_type": "execute_result"
    }
   ],
   "source": [
    "# making dependent variable(Total cost to hospital) as last column\n",
    "titles = list(reg_data.columns)\n",
    "titles"
   ]
  },
  {
   "cell_type": "code",
   "execution_count": 27,
   "metadata": {},
   "outputs": [
    {
     "data": {
      "text/plain": [
       "['AGE',\n",
       " 'HR PULSE',\n",
       " 'BP -HIGH',\n",
       " 'HB',\n",
       " 'UREA',\n",
       " 'CREATININE',\n",
       " 'TOTAL LENGTH OF STAY',\n",
       " 'TOTAL COST TO HOSPITAL ']"
      ]
     },
     "execution_count": 27,
     "metadata": {},
     "output_type": "execute_result"
    }
   ],
   "source": [
    "# making dependent variable(Total cost to hospital) as last column\n",
    "titles[6], titles[7] = titles[7], titles[6]\n",
    "titles"
   ]
  },
  {
   "cell_type": "code",
   "execution_count": 28,
   "metadata": {},
   "outputs": [
    {
     "data": {
      "text/html": [
       "<div>\n",
       "<style scoped>\n",
       "    .dataframe tbody tr th:only-of-type {\n",
       "        vertical-align: middle;\n",
       "    }\n",
       "\n",
       "    .dataframe tbody tr th {\n",
       "        vertical-align: top;\n",
       "    }\n",
       "\n",
       "    .dataframe thead th {\n",
       "        text-align: right;\n",
       "    }\n",
       "</style>\n",
       "<table border=\"1\" class=\"dataframe\">\n",
       "  <thead>\n",
       "    <tr style=\"text-align: right;\">\n",
       "      <th></th>\n",
       "      <th>AGE</th>\n",
       "      <th>HR PULSE</th>\n",
       "      <th>BP -HIGH</th>\n",
       "      <th>HB</th>\n",
       "      <th>UREA</th>\n",
       "      <th>CREATININE</th>\n",
       "      <th>TOTAL LENGTH OF STAY</th>\n",
       "      <th>TOTAL COST TO HOSPITAL</th>\n",
       "    </tr>\n",
       "  </thead>\n",
       "  <tbody>\n",
       "    <tr>\n",
       "      <th>0</th>\n",
       "      <td>58.0</td>\n",
       "      <td>118</td>\n",
       "      <td>100.0</td>\n",
       "      <td>11.0</td>\n",
       "      <td>33.0</td>\n",
       "      <td>0.8</td>\n",
       "      <td>25</td>\n",
       "      <td>660293.0</td>\n",
       "    </tr>\n",
       "    <tr>\n",
       "      <th>1</th>\n",
       "      <td>59.0</td>\n",
       "      <td>78</td>\n",
       "      <td>70.0</td>\n",
       "      <td>11.0</td>\n",
       "      <td>95.0</td>\n",
       "      <td>1.7</td>\n",
       "      <td>41</td>\n",
       "      <td>809130.0</td>\n",
       "    </tr>\n",
       "    <tr>\n",
       "      <th>2</th>\n",
       "      <td>82.0</td>\n",
       "      <td>100</td>\n",
       "      <td>110.0</td>\n",
       "      <td>12.0</td>\n",
       "      <td>15.0</td>\n",
       "      <td>0.8</td>\n",
       "      <td>18</td>\n",
       "      <td>362231.0</td>\n",
       "    </tr>\n",
       "    <tr>\n",
       "      <th>3</th>\n",
       "      <td>46.0</td>\n",
       "      <td>122</td>\n",
       "      <td>110.0</td>\n",
       "      <td>12.0</td>\n",
       "      <td>74.0</td>\n",
       "      <td>1.5</td>\n",
       "      <td>14</td>\n",
       "      <td>629990.0</td>\n",
       "    </tr>\n",
       "    <tr>\n",
       "      <th>4</th>\n",
       "      <td>60.0</td>\n",
       "      <td>72</td>\n",
       "      <td>180.0</td>\n",
       "      <td>10.0</td>\n",
       "      <td>48.0</td>\n",
       "      <td>1.9</td>\n",
       "      <td>24</td>\n",
       "      <td>444876.0</td>\n",
       "    </tr>\n",
       "  </tbody>\n",
       "</table>\n",
       "</div>"
      ],
      "text/plain": [
       "    AGE  HR PULSE  BP -HIGH    HB  UREA  CREATININE  TOTAL LENGTH OF STAY  \\\n",
       "0  58.0       118     100.0  11.0  33.0         0.8                    25   \n",
       "1  59.0        78      70.0  11.0  95.0         1.7                    41   \n",
       "2  82.0       100     110.0  12.0  15.0         0.8                    18   \n",
       "3  46.0       122     110.0  12.0  74.0         1.5                    14   \n",
       "4  60.0        72     180.0  10.0  48.0         1.9                    24   \n",
       "\n",
       "   TOTAL COST TO HOSPITAL   \n",
       "0                 660293.0  \n",
       "1                 809130.0  \n",
       "2                 362231.0  \n",
       "3                 629990.0  \n",
       "4                 444876.0  "
      ]
     },
     "execution_count": 28,
     "metadata": {},
     "output_type": "execute_result"
    }
   ],
   "source": [
    "# Arranging the data with respective to the changed columns\n",
    "reg_data = reg_data[titles]\n",
    "reg_data.head()"
   ]
  },
  {
   "cell_type": "markdown",
   "metadata": {},
   "source": [
    "### Building a prediction model and cheching with the help of r2"
   ]
  },
  {
   "cell_type": "code",
   "execution_count": 29,
   "metadata": {},
   "outputs": [
    {
     "data": {
      "text/html": [
       "<div>\n",
       "<style scoped>\n",
       "    .dataframe tbody tr th:only-of-type {\n",
       "        vertical-align: middle;\n",
       "    }\n",
       "\n",
       "    .dataframe tbody tr th {\n",
       "        vertical-align: top;\n",
       "    }\n",
       "\n",
       "    .dataframe thead th {\n",
       "        text-align: right;\n",
       "    }\n",
       "</style>\n",
       "<table border=\"1\" class=\"dataframe\">\n",
       "  <thead>\n",
       "    <tr style=\"text-align: right;\">\n",
       "      <th></th>\n",
       "      <th>AGE</th>\n",
       "      <th>HR PULSE</th>\n",
       "      <th>BP -HIGH</th>\n",
       "      <th>HB</th>\n",
       "      <th>UREA</th>\n",
       "      <th>CREATININE</th>\n",
       "      <th>TOTAL LENGTH OF STAY</th>\n",
       "    </tr>\n",
       "  </thead>\n",
       "  <tbody>\n",
       "    <tr>\n",
       "      <th>0</th>\n",
       "      <td>58.0</td>\n",
       "      <td>118</td>\n",
       "      <td>100.0</td>\n",
       "      <td>11.0</td>\n",
       "      <td>33.0</td>\n",
       "      <td>0.8</td>\n",
       "      <td>25</td>\n",
       "    </tr>\n",
       "    <tr>\n",
       "      <th>1</th>\n",
       "      <td>59.0</td>\n",
       "      <td>78</td>\n",
       "      <td>70.0</td>\n",
       "      <td>11.0</td>\n",
       "      <td>95.0</td>\n",
       "      <td>1.7</td>\n",
       "      <td>41</td>\n",
       "    </tr>\n",
       "    <tr>\n",
       "      <th>2</th>\n",
       "      <td>82.0</td>\n",
       "      <td>100</td>\n",
       "      <td>110.0</td>\n",
       "      <td>12.0</td>\n",
       "      <td>15.0</td>\n",
       "      <td>0.8</td>\n",
       "      <td>18</td>\n",
       "    </tr>\n",
       "    <tr>\n",
       "      <th>3</th>\n",
       "      <td>46.0</td>\n",
       "      <td>122</td>\n",
       "      <td>110.0</td>\n",
       "      <td>12.0</td>\n",
       "      <td>74.0</td>\n",
       "      <td>1.5</td>\n",
       "      <td>14</td>\n",
       "    </tr>\n",
       "    <tr>\n",
       "      <th>4</th>\n",
       "      <td>60.0</td>\n",
       "      <td>72</td>\n",
       "      <td>180.0</td>\n",
       "      <td>10.0</td>\n",
       "      <td>48.0</td>\n",
       "      <td>1.9</td>\n",
       "      <td>24</td>\n",
       "    </tr>\n",
       "  </tbody>\n",
       "</table>\n",
       "</div>"
      ],
      "text/plain": [
       "    AGE  HR PULSE  BP -HIGH    HB  UREA  CREATININE  TOTAL LENGTH OF STAY\n",
       "0  58.0       118     100.0  11.0  33.0         0.8                    25\n",
       "1  59.0        78      70.0  11.0  95.0         1.7                    41\n",
       "2  82.0       100     110.0  12.0  15.0         0.8                    18\n",
       "3  46.0       122     110.0  12.0  74.0         1.5                    14\n",
       "4  60.0        72     180.0  10.0  48.0         1.9                    24"
      ]
     },
     "execution_count": 29,
     "metadata": {},
     "output_type": "execute_result"
    }
   ],
   "source": [
    "# Dividing the dataset here in x we will have Age, HR, BP, HB, Urea, Creatinine, Total length of stay\n",
    "x = reg_data.iloc[:,:-1]\n",
    "x.head()"
   ]
  },
  {
   "cell_type": "code",
   "execution_count": 30,
   "metadata": {},
   "outputs": [
    {
     "data": {
      "text/html": [
       "<div>\n",
       "<style scoped>\n",
       "    .dataframe tbody tr th:only-of-type {\n",
       "        vertical-align: middle;\n",
       "    }\n",
       "\n",
       "    .dataframe tbody tr th {\n",
       "        vertical-align: top;\n",
       "    }\n",
       "\n",
       "    .dataframe thead th {\n",
       "        text-align: right;\n",
       "    }\n",
       "</style>\n",
       "<table border=\"1\" class=\"dataframe\">\n",
       "  <thead>\n",
       "    <tr style=\"text-align: right;\">\n",
       "      <th></th>\n",
       "      <th>TOTAL COST TO HOSPITAL</th>\n",
       "    </tr>\n",
       "  </thead>\n",
       "  <tbody>\n",
       "    <tr>\n",
       "      <th>0</th>\n",
       "      <td>660293.0</td>\n",
       "    </tr>\n",
       "    <tr>\n",
       "      <th>1</th>\n",
       "      <td>809130.0</td>\n",
       "    </tr>\n",
       "    <tr>\n",
       "      <th>2</th>\n",
       "      <td>362231.0</td>\n",
       "    </tr>\n",
       "    <tr>\n",
       "      <th>3</th>\n",
       "      <td>629990.0</td>\n",
       "    </tr>\n",
       "    <tr>\n",
       "      <th>4</th>\n",
       "      <td>444876.0</td>\n",
       "    </tr>\n",
       "  </tbody>\n",
       "</table>\n",
       "</div>"
      ],
      "text/plain": [
       "   TOTAL COST TO HOSPITAL \n",
       "0                 660293.0\n",
       "1                 809130.0\n",
       "2                 362231.0\n",
       "3                 629990.0\n",
       "4                 444876.0"
      ]
     },
     "execution_count": 30,
     "metadata": {},
     "output_type": "execute_result"
    }
   ],
   "source": [
    "# Making a table for output variable as total cost of the hospital\n",
    "y = reg_data.iloc[:,[7]]\n",
    "y.head()"
   ]
  },
  {
   "cell_type": "code",
   "execution_count": 31,
   "metadata": {},
   "outputs": [],
   "source": [
    "from sklearn.model_selection import train_test_split\n",
    "# Splitting the dataset into training and testing sets\n",
    "X_train, X_test, Y_train, Y_test = train_test_split(x, y, test_size = 0.2, random_state = 0)"
   ]
  },
  {
   "cell_type": "code",
   "execution_count": 32,
   "metadata": {},
   "outputs": [
    {
     "data": {
      "text/plain": [
       "LinearRegression()"
      ]
     },
     "execution_count": 32,
     "metadata": {},
     "output_type": "execute_result"
    }
   ],
   "source": [
    "from sklearn.linear_model import LinearRegression\n",
    "# Fitting the model linear regression to the training set\n",
    "regressor = LinearRegression()\n",
    "regressor.fit(X_train, Y_train)"
   ]
  },
  {
   "cell_type": "code",
   "execution_count": 33,
   "metadata": {},
   "outputs": [],
   "source": [
    "# Predicting the test result and comparing it with the Y test result\n",
    "Y_Prediction = regressor.predict(X_test)"
   ]
  },
  {
   "cell_type": "code",
   "execution_count": 34,
   "metadata": {},
   "outputs": [
    {
     "data": {
      "text/plain": [
       "0.4015179349929371"
      ]
     },
     "execution_count": 34,
     "metadata": {},
     "output_type": "execute_result"
    }
   ],
   "source": [
    "from sklearn.metrics import r2_score\n",
    "# now comparing the Y prediction value with the test data of Y and calculating the score\n",
    "# here the score is approximately as 0.40 which is less than 0.5 making the model as less suitable for any further analysis\n",
    "score = r2_score(Y_test, Y_Prediction)\n",
    "score"
   ]
  },
  {
   "cell_type": "code",
   "execution_count": 35,
   "metadata": {},
   "outputs": [
    {
     "data": {
      "text/html": [
       "<div>\n",
       "<style scoped>\n",
       "    .dataframe tbody tr th:only-of-type {\n",
       "        vertical-align: middle;\n",
       "    }\n",
       "\n",
       "    .dataframe tbody tr th {\n",
       "        vertical-align: top;\n",
       "    }\n",
       "\n",
       "    .dataframe thead th {\n",
       "        text-align: right;\n",
       "    }\n",
       "</style>\n",
       "<table border=\"1\" class=\"dataframe\">\n",
       "  <thead>\n",
       "    <tr style=\"text-align: right;\">\n",
       "      <th></th>\n",
       "      <th>HR PULSE</th>\n",
       "      <th>BP -HIGH</th>\n",
       "      <th>HB</th>\n",
       "      <th>UREA</th>\n",
       "      <th>CREATININE</th>\n",
       "      <th>TOTAL LENGTH OF STAY</th>\n",
       "    </tr>\n",
       "  </thead>\n",
       "  <tbody>\n",
       "    <tr>\n",
       "      <th>HR PULSE</th>\n",
       "      <td>1.000000</td>\n",
       "      <td>-0.294296</td>\n",
       "      <td>0.036423</td>\n",
       "      <td>-0.023677</td>\n",
       "      <td>-0.358653</td>\n",
       "      <td>0.123733</td>\n",
       "    </tr>\n",
       "    <tr>\n",
       "      <th>BP -HIGH</th>\n",
       "      <td>-0.294296</td>\n",
       "      <td>1.000000</td>\n",
       "      <td>-0.058624</td>\n",
       "      <td>0.050948</td>\n",
       "      <td>0.363124</td>\n",
       "      <td>0.039549</td>\n",
       "    </tr>\n",
       "    <tr>\n",
       "      <th>HB</th>\n",
       "      <td>0.036423</td>\n",
       "      <td>-0.058624</td>\n",
       "      <td>1.000000</td>\n",
       "      <td>-0.066692</td>\n",
       "      <td>-0.160791</td>\n",
       "      <td>0.008306</td>\n",
       "    </tr>\n",
       "    <tr>\n",
       "      <th>UREA</th>\n",
       "      <td>-0.023677</td>\n",
       "      <td>0.050948</td>\n",
       "      <td>-0.066692</td>\n",
       "      <td>1.000000</td>\n",
       "      <td>0.454899</td>\n",
       "      <td>0.219651</td>\n",
       "    </tr>\n",
       "    <tr>\n",
       "      <th>CREATININE</th>\n",
       "      <td>-0.358653</td>\n",
       "      <td>0.363124</td>\n",
       "      <td>-0.160791</td>\n",
       "      <td>0.454899</td>\n",
       "      <td>1.000000</td>\n",
       "      <td>0.170736</td>\n",
       "    </tr>\n",
       "    <tr>\n",
       "      <th>TOTAL LENGTH OF STAY</th>\n",
       "      <td>0.123733</td>\n",
       "      <td>0.039549</td>\n",
       "      <td>0.008306</td>\n",
       "      <td>0.219651</td>\n",
       "      <td>0.170736</td>\n",
       "      <td>1.000000</td>\n",
       "    </tr>\n",
       "  </tbody>\n",
       "</table>\n",
       "</div>"
      ],
      "text/plain": [
       "                      HR PULSE  BP -HIGH        HB      UREA  CREATININE  \\\n",
       "HR PULSE              1.000000 -0.294296  0.036423 -0.023677   -0.358653   \n",
       "BP -HIGH             -0.294296  1.000000 -0.058624  0.050948    0.363124   \n",
       "HB                    0.036423 -0.058624  1.000000 -0.066692   -0.160791   \n",
       "UREA                 -0.023677  0.050948 -0.066692  1.000000    0.454899   \n",
       "CREATININE           -0.358653  0.363124 -0.160791  0.454899    1.000000   \n",
       "TOTAL LENGTH OF STAY  0.123733  0.039549  0.008306  0.219651    0.170736   \n",
       "\n",
       "                      TOTAL LENGTH OF STAY  \n",
       "HR PULSE                          0.123733  \n",
       "BP -HIGH                          0.039549  \n",
       "HB                                0.008306  \n",
       "UREA                              0.219651  \n",
       "CREATININE                        0.170736  \n",
       "TOTAL LENGTH OF STAY              1.000000  "
      ]
     },
     "execution_count": 35,
     "metadata": {},
     "output_type": "execute_result"
    }
   ],
   "source": [
    "# the below table shows the correlation between the independent variables\n",
    "x.iloc[:,1:].corr()"
   ]
  },
  {
   "cell_type": "code",
   "execution_count": 37,
   "metadata": {},
   "outputs": [],
   "source": [
    "# For checking the model we are building beta0(Betanot) with the help of statsmodels library\n",
    "import statsmodels.api as sm\n",
    "# fit a Ordinary Least square(OLS) model with intercept for beta0(Beta not)\n",
    "x = sm.add_constant(x)\n"
   ]
  },
  {
   "cell_type": "code",
   "execution_count": 40,
   "metadata": {},
   "outputs": [
    {
     "data": {
      "text/html": [
       "<div>\n",
       "<style scoped>\n",
       "    .dataframe tbody tr th:only-of-type {\n",
       "        vertical-align: middle;\n",
       "    }\n",
       "\n",
       "    .dataframe tbody tr th {\n",
       "        vertical-align: top;\n",
       "    }\n",
       "\n",
       "    .dataframe thead th {\n",
       "        text-align: right;\n",
       "    }\n",
       "</style>\n",
       "<table border=\"1\" class=\"dataframe\">\n",
       "  <thead>\n",
       "    <tr style=\"text-align: right;\">\n",
       "      <th></th>\n",
       "      <th>const</th>\n",
       "      <th>AGE</th>\n",
       "      <th>HR PULSE</th>\n",
       "      <th>BP -HIGH</th>\n",
       "      <th>HB</th>\n",
       "      <th>UREA</th>\n",
       "      <th>CREATININE</th>\n",
       "      <th>TOTAL LENGTH OF STAY</th>\n",
       "    </tr>\n",
       "  </thead>\n",
       "  <tbody>\n",
       "    <tr>\n",
       "      <th>0</th>\n",
       "      <td>1.0</td>\n",
       "      <td>58.0</td>\n",
       "      <td>118</td>\n",
       "      <td>100.0</td>\n",
       "      <td>11.0</td>\n",
       "      <td>33.0</td>\n",
       "      <td>0.8</td>\n",
       "      <td>25</td>\n",
       "    </tr>\n",
       "    <tr>\n",
       "      <th>1</th>\n",
       "      <td>1.0</td>\n",
       "      <td>59.0</td>\n",
       "      <td>78</td>\n",
       "      <td>70.0</td>\n",
       "      <td>11.0</td>\n",
       "      <td>95.0</td>\n",
       "      <td>1.7</td>\n",
       "      <td>41</td>\n",
       "    </tr>\n",
       "    <tr>\n",
       "      <th>2</th>\n",
       "      <td>1.0</td>\n",
       "      <td>82.0</td>\n",
       "      <td>100</td>\n",
       "      <td>110.0</td>\n",
       "      <td>12.0</td>\n",
       "      <td>15.0</td>\n",
       "      <td>0.8</td>\n",
       "      <td>18</td>\n",
       "    </tr>\n",
       "    <tr>\n",
       "      <th>3</th>\n",
       "      <td>1.0</td>\n",
       "      <td>46.0</td>\n",
       "      <td>122</td>\n",
       "      <td>110.0</td>\n",
       "      <td>12.0</td>\n",
       "      <td>74.0</td>\n",
       "      <td>1.5</td>\n",
       "      <td>14</td>\n",
       "    </tr>\n",
       "    <tr>\n",
       "      <th>4</th>\n",
       "      <td>1.0</td>\n",
       "      <td>60.0</td>\n",
       "      <td>72</td>\n",
       "      <td>180.0</td>\n",
       "      <td>10.0</td>\n",
       "      <td>48.0</td>\n",
       "      <td>1.9</td>\n",
       "      <td>24</td>\n",
       "    </tr>\n",
       "  </tbody>\n",
       "</table>\n",
       "</div>"
      ],
      "text/plain": [
       "   const   AGE  HR PULSE  BP -HIGH    HB  UREA  CREATININE  \\\n",
       "0    1.0  58.0       118     100.0  11.0  33.0         0.8   \n",
       "1    1.0  59.0        78      70.0  11.0  95.0         1.7   \n",
       "2    1.0  82.0       100     110.0  12.0  15.0         0.8   \n",
       "3    1.0  46.0       122     110.0  12.0  74.0         1.5   \n",
       "4    1.0  60.0        72     180.0  10.0  48.0         1.9   \n",
       "\n",
       "   TOTAL LENGTH OF STAY  \n",
       "0                    25  \n",
       "1                    41  \n",
       "2                    18  \n",
       "3                    14  \n",
       "4                    24  "
      ]
     },
     "execution_count": 40,
     "metadata": {},
     "output_type": "execute_result"
    }
   ],
   "source": [
    "# here below we can observe that betanot has been included as const in the table\n",
    "x.head()"
   ]
  },
  {
   "cell_type": "code",
   "execution_count": 39,
   "metadata": {},
   "outputs": [
    {
     "data": {
      "text/html": [
       "<table class=\"simpletable\">\n",
       "<caption>OLS Regression Results</caption>\n",
       "<tr>\n",
       "  <th>Dep. Variable:</th>    <td>TOTAL COST TO HOSPITAL </td> <th>  R-squared:         </th> <td>   0.585</td>\n",
       "</tr>\n",
       "<tr>\n",
       "  <th>Model:</th>                      <td>OLS</td>           <th>  Adj. R-squared:    </th> <td>   0.573</td>\n",
       "</tr>\n",
       "<tr>\n",
       "  <th>Method:</th>                <td>Least Squares</td>      <th>  F-statistic:       </th> <td>   48.41</td>\n",
       "</tr>\n",
       "<tr>\n",
       "  <th>Date:</th>                <td>Mon, 17 May 2021</td>     <th>  Prob (F-statistic):</th> <td>1.71e-42</td>\n",
       "</tr>\n",
       "<tr>\n",
       "  <th>Time:</th>                    <td>15:24:23</td>         <th>  Log-Likelihood:    </th> <td> -3147.9</td>\n",
       "</tr>\n",
       "<tr>\n",
       "  <th>No. Observations:</th>         <td>   248</td>          <th>  AIC:               </th> <td>   6312.</td>\n",
       "</tr>\n",
       "<tr>\n",
       "  <th>Df Residuals:</th>             <td>   240</td>          <th>  BIC:               </th> <td>   6340.</td>\n",
       "</tr>\n",
       "<tr>\n",
       "  <th>Df Model:</th>                 <td>     7</td>          <th>                     </th>     <td> </td>   \n",
       "</tr>\n",
       "<tr>\n",
       "  <th>Covariance Type:</th>         <td>nonrobust</td>        <th>                     </th>     <td> </td>   \n",
       "</tr>\n",
       "</table>\n",
       "<table class=\"simpletable\">\n",
       "<tr>\n",
       "            <td></td>              <th>coef</th>     <th>std err</th>      <th>t</th>      <th>P>|t|</th>  <th>[0.025</th>    <th>0.975]</th>  \n",
       "</tr>\n",
       "<tr>\n",
       "  <th>const</th>                <td>-5.014e+04</td> <td> 4.97e+04</td> <td>   -1.008</td> <td> 0.314</td> <td>-1.48e+05</td> <td> 4.78e+04</td>\n",
       "</tr>\n",
       "<tr>\n",
       "  <th>AGE</th>                  <td> 1221.0576</td> <td>  300.778</td> <td>    4.060</td> <td> 0.000</td> <td>  628.555</td> <td> 1813.560</td>\n",
       "</tr>\n",
       "<tr>\n",
       "  <th>HR PULSE</th>             <td>  529.7334</td> <td>  303.049</td> <td>    1.748</td> <td> 0.082</td> <td>  -67.243</td> <td> 1126.710</td>\n",
       "</tr>\n",
       "<tr>\n",
       "  <th>BP -HIGH</th>             <td> -149.6211</td> <td>  295.552</td> <td>   -0.506</td> <td> 0.613</td> <td> -731.828</td> <td>  432.586</td>\n",
       "</tr>\n",
       "<tr>\n",
       "  <th>HB</th>                   <td> -585.5190</td> <td> 1679.539</td> <td>   -0.349</td> <td> 0.728</td> <td>-3894.039</td> <td> 2723.001</td>\n",
       "</tr>\n",
       "<tr>\n",
       "  <th>UREA</th>                 <td>  123.3834</td> <td>  378.778</td> <td>    0.326</td> <td> 0.745</td> <td> -622.771</td> <td>  869.538</td>\n",
       "</tr>\n",
       "<tr>\n",
       "  <th>CREATININE</th>           <td>  3.56e+04</td> <td> 1.37e+04</td> <td>    2.604</td> <td> 0.010</td> <td> 8673.593</td> <td> 6.25e+04</td>\n",
       "</tr>\n",
       "<tr>\n",
       "  <th>TOTAL LENGTH OF STAY</th> <td> 1.375e+04</td> <td> 1023.558</td> <td>   13.431</td> <td> 0.000</td> <td> 1.17e+04</td> <td> 1.58e+04</td>\n",
       "</tr>\n",
       "</table>\n",
       "<table class=\"simpletable\">\n",
       "<tr>\n",
       "  <th>Omnibus:</th>       <td>159.098</td> <th>  Durbin-Watson:     </th> <td>   1.945</td>\n",
       "</tr>\n",
       "<tr>\n",
       "  <th>Prob(Omnibus):</th> <td> 0.000</td>  <th>  Jarque-Bera (JB):  </th> <td>2011.062</td>\n",
       "</tr>\n",
       "<tr>\n",
       "  <th>Skew:</th>          <td> 2.314</td>  <th>  Prob(JB):          </th> <td>    0.00</td>\n",
       "</tr>\n",
       "<tr>\n",
       "  <th>Kurtosis:</th>      <td>16.161</td>  <th>  Cond. No.          </th> <td>1.51e+03</td>\n",
       "</tr>\n",
       "</table><br/><br/>Notes:<br/>[1] Standard Errors assume that the covariance matrix of the errors is correctly specified.<br/>[2] The condition number is large, 1.51e+03. This might indicate that there are<br/>strong multicollinearity or other numerical problems."
      ],
      "text/plain": [
       "<class 'statsmodels.iolib.summary.Summary'>\n",
       "\"\"\"\n",
       "                               OLS Regression Results                              \n",
       "===================================================================================\n",
       "Dep. Variable:     TOTAL COST TO HOSPITAL    R-squared:                       0.585\n",
       "Model:                                 OLS   Adj. R-squared:                  0.573\n",
       "Method:                      Least Squares   F-statistic:                     48.41\n",
       "Date:                     Mon, 17 May 2021   Prob (F-statistic):           1.71e-42\n",
       "Time:                             15:24:23   Log-Likelihood:                -3147.9\n",
       "No. Observations:                      248   AIC:                             6312.\n",
       "Df Residuals:                          240   BIC:                             6340.\n",
       "Df Model:                                7                                         \n",
       "Covariance Type:                 nonrobust                                         \n",
       "========================================================================================\n",
       "                           coef    std err          t      P>|t|      [0.025      0.975]\n",
       "----------------------------------------------------------------------------------------\n",
       "const                -5.014e+04   4.97e+04     -1.008      0.314   -1.48e+05    4.78e+04\n",
       "AGE                   1221.0576    300.778      4.060      0.000     628.555    1813.560\n",
       "HR PULSE               529.7334    303.049      1.748      0.082     -67.243    1126.710\n",
       "BP -HIGH              -149.6211    295.552     -0.506      0.613    -731.828     432.586\n",
       "HB                    -585.5190   1679.539     -0.349      0.728   -3894.039    2723.001\n",
       "UREA                   123.3834    378.778      0.326      0.745    -622.771     869.538\n",
       "CREATININE             3.56e+04   1.37e+04      2.604      0.010    8673.593    6.25e+04\n",
       "TOTAL LENGTH OF STAY  1.375e+04   1023.558     13.431      0.000    1.17e+04    1.58e+04\n",
       "==============================================================================\n",
       "Omnibus:                      159.098   Durbin-Watson:                   1.945\n",
       "Prob(Omnibus):                  0.000   Jarque-Bera (JB):             2011.062\n",
       "Skew:                           2.314   Prob(JB):                         0.00\n",
       "Kurtosis:                      16.161   Cond. No.                     1.51e+03\n",
       "==============================================================================\n",
       "\n",
       "Notes:\n",
       "[1] Standard Errors assume that the covariance matrix of the errors is correctly specified.\n",
       "[2] The condition number is large, 1.51e+03. This might indicate that there are\n",
       "strong multicollinearity or other numerical problems.\n",
       "\"\"\""
      ]
     },
     "execution_count": 39,
     "metadata": {},
     "output_type": "execute_result"
    }
   ],
   "source": [
    "# Below we can build a model for getting the indepth analysis of the all the x variables when compared with y for building better model\n",
    "model = sm.OLS(y,x).fit()\n",
    "model.summary()"
   ]
  }
 ],
 "metadata": {
  "kernelspec": {
   "display_name": "Python 3",
   "language": "python",
   "name": "python3"
  },
  "language_info": {
   "codemirror_mode": {
    "name": "ipython",
    "version": 3
   },
   "file_extension": ".py",
   "mimetype": "text/x-python",
   "name": "python",
   "nbconvert_exporter": "python",
   "pygments_lexer": "ipython3",
   "version": "3.8.5"
  }
 },
 "nbformat": 4,
 "nbformat_minor": 4
}
